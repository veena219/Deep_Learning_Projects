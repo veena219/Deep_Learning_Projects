{
  "cells": [
    {
      "cell_type": "markdown",
      "metadata": {
        "id": "view-in-github",
        "colab_type": "text"
      },
      "source": [
        "<a href=\"https://colab.research.google.com/github/veena219/Deep_Learning_Projects/blob/main/CNN_classification.ipynb\" target=\"_parent\"><img src=\"https://colab.research.google.com/assets/colab-badge.svg\" alt=\"Open In Colab\"/></a>"
      ]
    },
    {
      "cell_type": "code",
      "execution_count": null,
      "metadata": {
        "id": "aiN-mhghtnFt"
      },
      "outputs": [],
      "source": [
        "import tensorflow as tf\n",
        "from tensorflow.keras.models import Sequential\n",
        "from tensorflow.keras.layers import Dense, Conv2D, Flatten, Dropout, MaxPooling2D\n",
        "from tensorflow.keras.preprocessing.image import ImageDataGenerator\n",
        "\n",
        "import os\n",
        "import numpy as np\n",
        "import matplotlib.pyplot as plt\n"
      ]
    },
    {
      "cell_type": "code",
      "execution_count": null,
      "metadata": {
        "id": "joXjIbZ7uI2W"
      },
      "outputs": [],
      "source": [
        "_URL =  'https://storage.googleapis.com/mledu-datasets/cats_and_dogs_filtered.zip'\n",
        "path_to_zip = tf.keras.utils.get_file('/content/drive/MyDrive/Colab_Notebooks/CNN/cats_and_dogs.zip', origin=_URL, extract=True)\n"
      ]
    },
    {
      "cell_type": "code",
      "execution_count": null,
      "metadata": {
        "id": "GIxVYNNw6evO"
      },
      "outputs": [],
      "source": [
        "PATH = os.path.join(os.path.dirname(path_to_zip), 'cats_and_dogs.zip')\n",
        "PATH"
      ]
    },
    {
      "cell_type": "code",
      "execution_count": null,
      "metadata": {
        "id": "NHiHYl3quL0d"
      },
      "outputs": [],
      "source": [
        "PATH = r\"//content//drive//MyDrive//Colab_Notebooks//CNN//cats_and_dogs.zip\"\n",
        "New_PATH = r\"//content//drive//MyDrive//Colab_Notebooks//CNN//cats_and_dogs\"\n",
        "!unzip $PATH -d $New_PATH"
      ]
    },
    {
      "cell_type": "code",
      "execution_count": null,
      "metadata": {
        "id": "ROPeZHQrwR1X"
      },
      "outputs": [],
      "source": [
        "dataPath = '/content/drive/MyDrive/Colab_Notebooks/CNN/cats_and_dogs/cats_and_dogs_filtered'\n",
        "dataPath"
      ]
    },
    {
      "cell_type": "code",
      "execution_count": null,
      "metadata": {
        "id": "p_S4vzA9x6A4"
      },
      "outputs": [],
      "source": [
        "! ls $dataPath"
      ]
    },
    {
      "cell_type": "code",
      "execution_count": null,
      "metadata": {
        "id": "TtVqVXqYx6Nl"
      },
      "outputs": [],
      "source": [
        "train_dir = os.path.join(dataPath, 'train')\n",
        "validation_dir = os.path.join(dataPath, 'validation')"
      ]
    },
    {
      "cell_type": "code",
      "execution_count": null,
      "metadata": {
        "id": "-zUfZLbGx6RF"
      },
      "outputs": [],
      "source": [
        "train_cats_dir = os.path.join(train_dir, 'cats')\n",
        "train_dogs_dir = os.path.join(train_dir, 'dogs')\n",
        "validation_cats_dir = os.path.join(validation_dir, 'cats')\n",
        "validation_dogs_dir = os.path.join(validation_dir, 'dogs')"
      ]
    },
    {
      "cell_type": "code",
      "execution_count": null,
      "metadata": {
        "id": "_PDRFcbJA_py"
      },
      "outputs": [],
      "source": [
        "num_cat_tr = len(os.listdir(train_cats_dir))\n",
        "num_dog_tr = len(os.listdir(train_dogs_dir))\n",
        "num_cat_val = len(os.listdir(validation_cats_dir))\n",
        "num_dog_val = len(os.listdir(validation_dogs_dir))\n",
        "\n",
        "total_train = num_cat_tr + num_dog_tr\n",
        "total_val = num_cat_val + num_dog_val"
      ]
    },
    {
      "cell_type": "code",
      "execution_count": null,
      "metadata": {
        "id": "OH9mS4UyA_2w"
      },
      "outputs": [],
      "source": [
        "print('total training cat images :',num_cat_tr )\n",
        "print('total training dog images :',num_dog_tr )\n",
        "print('==========================================')\n",
        "print('total validation cat images :',num_cat_val )\n",
        "print('total validation dog images :',num_dog_val )\n",
        "print('==========================================')\n",
        "print(f\"total training images : {total_train}\")\n",
        "print(f\"total validation images : {total_val}\")"
      ]
    },
    {
      "cell_type": "code",
      "execution_count": null,
      "metadata": {
        "id": "WqK1aMNgA_6Y"
      },
      "outputs": [],
      "source": [
        "batch_size = 128 # power of 2 ---> 64, 128, 256, 512\n",
        "epoch = 100\n",
        "IMG_HEIGHT = 150\n",
        "IMG_WIDTH = 150 "
      ]
    },
    {
      "cell_type": "code",
      "execution_count": null,
      "metadata": {
        "id": "QftM9jzb8Wzt"
      },
      "outputs": [],
      "source": [
        "## data augmentation"
      ]
    },
    {
      "cell_type": "code",
      "execution_count": null,
      "metadata": {
        "id": "LQuPQgnizs_R"
      },
      "outputs": [],
      "source": [
        "# Horizontal flip\n",
        "\n",
        "train_images_horizontal = ImageDataGenerator(rescale=1./255,horizontal_flip=True)\n",
        "train_images_horizontal_gen = train_images_horizontal.flow_from_directory(batch_size = batch_size,\n",
        "                                                                          directory = train_dir,\n",
        "                                                                          shuffle = True,\n",
        "                                                                          target_size = (IMG_HEIGHT,IMG_WIDTH),\n",
        "                                                                          class_mode = 'binary')"
      ]
    },
    {
      "cell_type": "code",
      "execution_count": null,
      "metadata": {
        "id": "pOWpokJEztRd"
      },
      "outputs": [],
      "source": [
        "# augmented_images = [train_images_horizontal_gen[0][0][0] for i in range(5)]\n",
        "# plotImage(augmented_images)"
      ]
    },
    {
      "cell_type": "code",
      "execution_count": null,
      "metadata": {
        "id": "OPYfWpv6xf92"
      },
      "outputs": [],
      "source": [
        "# 2. Rotate the image\n",
        "\n",
        "\n",
        "train_images_rotation = ImageDataGenerator(rescale=1./255, rotation_range = 45)\n",
        "train_images_rotation_gen = train_images_rotation.flow_from_directory(batch_size = batch_size,\n",
        "                                                                          directory = train_dir,\n",
        "                                                                          shuffle = True,\n",
        "                                                                          target_size = (IMG_HEIGHT,IMG_WIDTH),\n",
        "                                                                          class_mode = 'binary')\n",
        "\n",
        "# augmented_images = [train_images_rotation_gen[0][0][0] for i in range(5)]\n",
        "# plotImage(augmented_images)"
      ]
    },
    {
      "cell_type": "code",
      "execution_count": null,
      "metadata": {
        "id": "X924EEiy2an9"
      },
      "outputs": [],
      "source": [
        "# 3. Zoom the image\n",
        "\n",
        "\n",
        "train_images_zoom = ImageDataGenerator(rescale=1./255, zoom_range = 0.5)\n",
        "train_images_zoom_gen = train_images_zoom.flow_from_directory(batch_size = batch_size,\n",
        "                                                                          directory = train_dir,\n",
        "                                                                          shuffle = True,\n",
        "                                                                          target_size = (IMG_HEIGHT,IMG_WIDTH),\n",
        "                                                                          class_mode = 'binary')\n",
        "\n",
        "# augmented_images = [train_images_zoom_gen[0][0][0] for i in range(5)]\n",
        "# plotImage(augmented_images)"
      ]
    },
    {
      "cell_type": "code",
      "execution_count": null,
      "metadata": {
        "id": "iZHmWn082a5g"
      },
      "outputs": [],
      "source": [
        "train_image_generator = ImageDataGenerator(rescale = 1./255,\n",
        "                                           rotation_range = 45,\n",
        "                                           zoom_range = 0.5,\n",
        "                                           width_shift_range = .15,\n",
        "                                           height_shift_range = 0.15) # generator for our training data"
      ]
    },
    {
      "cell_type": "code",
      "execution_count": null,
      "metadata": {
        "id": "c1SSHStC2a8r"
      },
      "outputs": [],
      "source": [
        "train_data_gen = train_image_generator.flow_from_directory( batch_size = batch_size,\n",
        "                                                           directory = train_dir,\n",
        "                                                           shuffle = True,\n",
        "                                                           target_size = (IMG_HEIGHT, IMG_WIDTH),\n",
        "                                                           class_mode = 'binary' ) # multiclass ---> \"categorical\""
      ]
    },
    {
      "cell_type": "code",
      "execution_count": null,
      "metadata": {
        "id": "yjhHcRed2bAT"
      },
      "outputs": [],
      "source": [
        "# augmented_images = [train_data_gen[0][0][0] for i in range(10)]\n",
        "# plotImage(augmented_images)"
      ]
    },
    {
      "cell_type": "code",
      "source": [
        "validation_image_generator = ImageDataGenerator(rescale = 1./255)\n",
        "validation_data_gen = validation_image_generator.flow_from_directory( batch_size = batch_size,\n",
        "                                                          directory = validation_dir,\n",
        "                                                          target_size = (IMG_HEIGHT, IMG_WIDTH),\n",
        "                                                          class_mode = 'binary' ) # multiclass ---> \"categorical\""
      ],
      "metadata": {
        "id": "wo2_CYfGbGEr"
      },
      "execution_count": null,
      "outputs": []
    },
    {
      "cell_type": "code",
      "source": [
        " sample_training_images, check = next(train_data_gen)"
      ],
      "metadata": {
        "id": "Ts-mDKyVbMJ1"
      },
      "execution_count": null,
      "outputs": []
    },
    {
      "cell_type": "code",
      "source": [
        "len(sample_training_images)"
      ],
      "metadata": {
        "id": "2j4-sYd-bMNW"
      },
      "execution_count": null,
      "outputs": []
    },
    {
      "cell_type": "code",
      "source": [
        "# # this function will plot images in the form of a grid with 1 row and 5 columns where images are placed in each column.\n",
        "\n",
        "def plotImage(images_arr):\n",
        "   fig, axes = plt.subplots(1, 5, figsize=(20,20))\n",
        "   axes = axes.flatten()\n",
        "   for img, ax in zip( images_arr, axes):\n",
        "     ax.imshow(img)\n",
        "     ax.axis('off')\n",
        "plt.tight_layout()\n",
        "plt.show()"
      ],
      "metadata": {
        "id": "tXUPqbtPbxRp"
      },
      "execution_count": null,
      "outputs": []
    },
    {
      "cell_type": "code",
      "source": [
        " plotImage(sample_training_images[4:9])"
      ],
      "metadata": {
        "id": "zoJK0LX7bxe5"
      },
      "execution_count": null,
      "outputs": []
    },
    {
      "cell_type": "code",
      "source": [
        "# let trains\n",
        "# dropout\n",
        "\n",
        "model_new = Sequential([\n",
        "    Conv2D(16,3, padding = 'same', activation = 'relu', input_shape=(IMG_HEIGHT,IMG_WIDTH,3)),\n",
        "    MaxPooling2D(),\n",
        "    Dropout(0.2),\n",
        "    Conv2D(32,3, padding = 'same', activation = 'relu'),\n",
        "    MaxPooling2D(),\n",
        "    Conv2D(64,3, padding = 'same', activation = 'relu'),\n",
        "    MaxPooling2D(),\n",
        "    Dropout(0.2),\n",
        "    Flatten(),\n",
        "    Dense(512, activation = 'relu'),\n",
        "    Dense(1)\n",
        "])"
      ],
      "metadata": {
        "id": "q57nlaOT_boR"
      },
      "execution_count": null,
      "outputs": []
    },
    {
      "cell_type": "code",
      "source": [
        "model_new.compile(optimizer='adam',\n",
        "              loss=tf.keras.losses.BinaryCrossentropy(from_logits=True),\n",
        "              metrics=['accuracy'])"
      ],
      "metadata": {
        "id": "-PcrqGG7_b2Q"
      },
      "execution_count": null,
      "outputs": []
    },
    {
      "cell_type": "code",
      "source": [
        "model_new.summary()"
      ],
      "metadata": {
        "id": "XoR2t820_b5X"
      },
      "execution_count": null,
      "outputs": []
    },
    {
      "cell_type": "code",
      "source": [
        "# model fit\n",
        "\n",
        "history = model_new.fit( train_data_gen,\n",
        "                    steps_per_epoch=total_train//batch_size,\n",
        "                    epochs=epoch,\n",
        "                    validation_data=validation_data_gen,\n",
        "                    validation_steps=total_val//batch_size\n",
        "                    )"
      ],
      "metadata": {
        "id": "fvrXoVEJ_b8R"
      },
      "execution_count": null,
      "outputs": []
    },
    {
      "cell_type": "code",
      "source": [
        "history.history.keys()"
      ],
      "metadata": {
        "id": "CLsQOHWBc3Se"
      },
      "execution_count": null,
      "outputs": []
    },
    {
      "cell_type": "code",
      "source": [
        "# summarize history for accuracy\n",
        "\n",
        "plt.plot(history.history['accuracy'])\n",
        "plt.plot(history.history['val_accuracy'])\n",
        "plt.title('model accuracy')\n",
        "plt.ylabel('accuracy')\n",
        "plt.xlabel('epoch')\n",
        "plt.legend(['train', 'test'], loc='upper left')\n",
        "plt.show()"
      ],
      "metadata": {
        "id": "9p5jhi3Wc97I"
      },
      "execution_count": null,
      "outputs": []
    },
    {
      "cell_type": "code",
      "source": [
        "# summarize history for loss\n",
        "\n",
        "plt.plot(history.history['loss'])\n",
        "plt.plot(history.history['val_loss'])\n",
        "plt.title('model loss')\n",
        "plt.ylabel('loss')\n",
        "plt.xlabel('epoch')\n",
        "plt.legend(['train', 'test'], loc='upper left')\n",
        "plt.show()"
      ],
      "metadata": {
        "id": "Bf-Hqu5tc-Bf"
      },
      "execution_count": null,
      "outputs": []
    },
    {
      "cell_type": "code",
      "source": [
        "# predict with new data\n",
        "\n",
        "img_size = (150,150)\n",
        "\n",
        "from PIL import Image\n",
        "import numpy as np\n",
        "\n",
        "im = Image.open(\"/puppy-g0f356e28a_1920.jpg\")\n",
        "im = im.resize(img_size)\n",
        "im = np.expand_dims(im, axis=0)\n",
        "im = np.array(im)\n",
        "im = im/255\n",
        "pred = model_new.predict([im])\n",
        "\n",
        "if pred[0][0] >= 0.5:\n",
        "  prediction = \"dog\"\n",
        "  print(\"dog\")\n",
        "else:\n",
        "  prediction = \"cat\"\n",
        "  print(\"cat\")"
      ],
      "metadata": {
        "id": "pXO5ZWrn_b_r"
      },
      "execution_count": null,
      "outputs": []
    }
  ],
  "metadata": {
    "accelerator": "GPU",
    "colab": {
      "provenance": [],
      "private_outputs": true,
      "gpuType": "T4",
      "mount_file_id": "1cKTomKKcuaHc7eIskCF8lk7xSAju-kgb",
      "authorship_tag": "ABX9TyOgK6StNwvUiGwr8ZewFmsV",
      "include_colab_link": true
    },
    "gpuClass": "standard",
    "kernelspec": {
      "display_name": "Python 3",
      "name": "python3"
    },
    "language_info": {
      "name": "python"
    }
  },
  "nbformat": 4,
  "nbformat_minor": 0
}